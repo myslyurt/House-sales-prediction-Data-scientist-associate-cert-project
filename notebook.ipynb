# Use this cell to write your code for Task 1
import numpy as np
import pandas as pd
import seaborn as sns
import matplotlib.pyplot as plt
from sklearn.model_selection import train_test_split
from sklearn.linear_model import LinearRegression
from sklearn.ensemble import RandomForestRegressor
from sklearn.metrics import mean_squared_error
pd.set_option('display.max_columns', 40)
pd.set_option('display.max_rows', 40)

import pandas as pd

df = pd.read_csv("house_sales.csv")
df.head(50)

df['city'].replace('--', np.nan, inplace=True)

missing_city = df["city"].isna().sum()

print(missing_city)





import pandas as pd

# Load the data
df = pd.read_csv("house_sales.csv")

# Task 1: Handling missing values in the 'city' column
#df['city'].replace('--', np.nan, inplace=True)
#df['city'].fillna("Unknown", inplace=True)

df['city'].replace('--', 'Unknown', inplace=True)


# Task 2: Removing missing entries in the 'sale_price' column
df.dropna(subset=['sale_price'], inplace=True)
df = df[df['sale_price'] > 0]

# Task 3: Handling missing values in the 'sale_date' column
df['sale_date'].fillna("2023-01-01", inplace=True)

# Task 4: Cleaning the 'months_listed' column
mean_months_listed = df['months_listed'].mean()
df['months_listed'].fillna(mean_months_listed, inplace=True)
df['months_listed'] = df['months_listed'].round(1)

# Task 5: Cleaning the 'bedrooms' column
mean_bedrooms = df['bedrooms'].mean()
df['bedrooms'].fillna(round(mean_bedrooms), inplace=True)

# Task 6: Cleaning the 'house_type' column
#valid_house_types = ['Terraced', 'Semi-detached', 'Detached']
#df.loc[~df['house_type'].isin(valid_house_types), 'house_type'] = 'Unknown'

df['house_type'].replace({'Det.': 'Detached', 'Semi': 'Semi-detached', 'Terr.': 'Terraced'}, inplace=True)
most_common_house_type = df['house_type'].mode()[0]
df['house_type'].fillna(most_common_house_type, inplace=True)

# Task 7: Cleaning the 'area' column
df['area'] = df['area'].str.extract(r'(\d+\.\d+)').astype(float)


# Create the cleaned dataframe
clean_data = df.copy()

# Display the resulting DataFrame
print(clean_data)




df = pd.read_csv("house_sales.csv")

# Replace missing values in the 'bedrooms' column with the mean
mean_bedrooms = df['bedrooms'].mean()
df['bedrooms'].fillna(round(mean_bedrooms), inplace=True)

# Calculate average price and variance by number of bedrooms
price_by_rooms = df.groupby('bedrooms')['sale_price'].agg(['mean', 'var']).reset_index()
price_by_rooms.columns = ['bedrooms', 'avg_price', 'var_price']

# Round the values to 1 decimal place
price_by_rooms = price_by_rooms.round(1)

# Display the resulting DataFrame
print(price_by_rooms)




train_data = pd.read_csv("train.csv")
validation_data = pd.read_csv("validation.csv")

train_data = pd.get_dummies(train_data, columns=["city", "house_type"], drop_first=True)
validation_data = pd.get_dummies(validation_data, columns=["city", "house_type"], drop_first=True)

train_data["sale_date"] = pd.to_datetime(train_data["sale_date"])
validation_data["sale_date"] = pd.to_datetime(validation_data["sale_date"])

train_data["sale_year"] = train_data["sale_date"].dt.year
train_data["sale_month"] = train_data["sale_date"].dt.month
train_data["sale_day"] = train_data["sale_date"].dt.day

validation_data["sale_year"] = validation_data["sale_date"].dt.year
validation_data["sale_month"] = validation_data["sale_date"].dt.month
validation_data["sale_day"] = validation_data["sale_date"].dt.day

target_variable = "sale_price"

X = train_data.drop(columns=[target_variable, "sale_date"])
y = train_data[target_variable]

X_train, X_test, y_train, y_test = train_test_split(X, y, test_size=0.3, random_state=42)

baseline_model = LinearRegression()
baseline_model.fit(X_train, y_train)

X_validation = validation_data.drop(columns=["sale_date"])
predicted_prices = baseline_model.predict(X_validation)

base_result = pd.DataFrame({"house_id": validation_data["house_id"], "price": predicted_prices})

print(base_result)





# Use this cell to write your code for Task 5

comparison_model = RandomForestRegressor(random_state=42)
comparison_model.fit(X_train, y_train)

X_validation = validation_data.drop(columns=["sale_date"])
predicted_prices = comparison_model.predict(X_validation)

compare_result = pd.DataFrame({"house_id": validation_data["house_id"], "price": predicted_prices})

print(compare_result)


#for base_model RMSE 
mse_base = mean_squared_error(y_test, baseline_model.predict(X_test))
rmse_base = np.sqrt(mse_base)
print(f"\nBaseline Model RMSE: {rmse_base}")

#for compare model RMSE
mse_compare = mean_squared_error(y_test, comparison_model.predict(X_test))
rmse_compare = np.sqrt(mse_compare)
print(f"Comparison Model RMSE: {rmse_compare}")

